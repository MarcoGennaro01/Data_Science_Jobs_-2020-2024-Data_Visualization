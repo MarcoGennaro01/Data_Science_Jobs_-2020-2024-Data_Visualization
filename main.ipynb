{
 "cells": [
  {
   "cell_type": "markdown",
   "id": "84591c59",
   "metadata": {},
   "source": [
    "### Data Science Salaries 2024 "
   ]
  },
  {
   "cell_type": "markdown",
   "id": "17739e20",
   "metadata": {},
   "source": []
  },
  {
   "cell_type": "markdown",
   "id": "5b28983a",
   "metadata": {},
   "source": [
    "## Data Cleaning"
   ]
  },
  {
   "cell_type": "markdown",
   "id": "a65a7efb",
   "metadata": {},
   "source": [
    "The dataset used is the [**Data Science Salaries 2024**](https://www.kaggle.com/datasets/sazidthe1/data-science-salaries), a dataset containing informations such as salary, work model, employment type and more about data scientists in all of the world. The author **Sazidul Islam** has done a great job in cleaning the data, but some minor changes are needed."
   ]
  },
  {
   "cell_type": "markdown",
   "id": "187b02ca",
   "metadata": {},
   "source": [
    "First of all, let's import all the libraries we are gonna use."
   ]
  },
  {
   "cell_type": "code",
   "execution_count": 164,
   "id": "82ee2618",
   "metadata": {},
   "outputs": [],
   "source": [
    "#importing libraries\n",
    "from os import getcwd\n",
    "#to get the working directory through getcwd\n",
    "from pandas import *\n",
    "#to manipulate dataframes\n",
    "import geopandas as gpd\n",
    "#for choropleth maps\n",
    "from plotnine import *\n",
    "from numpy import *\n",
    "from plotnine.stats import *\n",
    "#for data visualization\n",
    "from statistics import *\n",
    "#to get all of the statistical functions needed"
   ]
  },
  {
   "cell_type": "markdown",
   "id": "ee65a95f",
   "metadata": {},
   "source": [
    "I downloaded the data and moved it into the working directory. It is in the .csv format, so I'm gonna use the function read_csv to read the file and store it in a pandas dataframe."
   ]
  },
  {
   "cell_type": "code",
   "execution_count": 165,
   "id": "3896b7b0",
   "metadata": {},
   "outputs": [
    {
     "name": "stdout",
     "output_type": "stream",
     "text": [
      "Number of rows:  6599\n"
     ]
    }
   ],
   "source": [
    "path_to_data = getcwd() + r\"\\data_science_salaries.csv\"\n",
    "\n",
    "data = read_csv(path_to_data, sep = \",\")\n",
    "\n",
    "print(\"Number of rows: \", len(data))"
   ]
  },
  {
   "cell_type": "code",
   "execution_count": 166,
   "id": "0d9180b0",
   "metadata": {},
   "outputs": [
    {
     "data": {
      "text/html": [
       "<div>\n",
       "<style scoped>\n",
       "    .dataframe tbody tr th:only-of-type {\n",
       "        vertical-align: middle;\n",
       "    }\n",
       "\n",
       "    .dataframe tbody tr th {\n",
       "        vertical-align: top;\n",
       "    }\n",
       "\n",
       "    .dataframe thead th {\n",
       "        text-align: right;\n",
       "    }\n",
       "</style>\n",
       "<table border=\"1\" class=\"dataframe\">\n",
       "  <thead>\n",
       "    <tr style=\"text-align: right;\">\n",
       "      <th></th>\n",
       "      <th>job_title</th>\n",
       "      <th>experience_level</th>\n",
       "      <th>employment_type</th>\n",
       "      <th>work_models</th>\n",
       "      <th>work_year</th>\n",
       "      <th>employee_residence</th>\n",
       "      <th>salary</th>\n",
       "      <th>salary_currency</th>\n",
       "      <th>salary_in_usd</th>\n",
       "      <th>company_location</th>\n",
       "      <th>company_size</th>\n",
       "    </tr>\n",
       "  </thead>\n",
       "  <tbody>\n",
       "    <tr>\n",
       "      <th>0</th>\n",
       "      <td>Data Engineer</td>\n",
       "      <td>Mid-level</td>\n",
       "      <td>Full-time</td>\n",
       "      <td>Remote</td>\n",
       "      <td>2024</td>\n",
       "      <td>United States</td>\n",
       "      <td>148100</td>\n",
       "      <td>USD</td>\n",
       "      <td>148100</td>\n",
       "      <td>United States</td>\n",
       "      <td>Medium</td>\n",
       "    </tr>\n",
       "    <tr>\n",
       "      <th>1</th>\n",
       "      <td>Data Engineer</td>\n",
       "      <td>Mid-level</td>\n",
       "      <td>Full-time</td>\n",
       "      <td>Remote</td>\n",
       "      <td>2024</td>\n",
       "      <td>United States</td>\n",
       "      <td>98700</td>\n",
       "      <td>USD</td>\n",
       "      <td>98700</td>\n",
       "      <td>United States</td>\n",
       "      <td>Medium</td>\n",
       "    </tr>\n",
       "    <tr>\n",
       "      <th>2</th>\n",
       "      <td>Data Scientist</td>\n",
       "      <td>Senior-level</td>\n",
       "      <td>Full-time</td>\n",
       "      <td>Remote</td>\n",
       "      <td>2024</td>\n",
       "      <td>United States</td>\n",
       "      <td>140032</td>\n",
       "      <td>USD</td>\n",
       "      <td>140032</td>\n",
       "      <td>United States</td>\n",
       "      <td>Medium</td>\n",
       "    </tr>\n",
       "    <tr>\n",
       "      <th>3</th>\n",
       "      <td>Data Scientist</td>\n",
       "      <td>Senior-level</td>\n",
       "      <td>Full-time</td>\n",
       "      <td>Remote</td>\n",
       "      <td>2024</td>\n",
       "      <td>United States</td>\n",
       "      <td>100022</td>\n",
       "      <td>USD</td>\n",
       "      <td>100022</td>\n",
       "      <td>United States</td>\n",
       "      <td>Medium</td>\n",
       "    </tr>\n",
       "    <tr>\n",
       "      <th>4</th>\n",
       "      <td>BI Developer</td>\n",
       "      <td>Mid-level</td>\n",
       "      <td>Full-time</td>\n",
       "      <td>On-site</td>\n",
       "      <td>2024</td>\n",
       "      <td>United States</td>\n",
       "      <td>120000</td>\n",
       "      <td>USD</td>\n",
       "      <td>120000</td>\n",
       "      <td>United States</td>\n",
       "      <td>Medium</td>\n",
       "    </tr>\n",
       "  </tbody>\n",
       "</table>\n",
       "</div>"
      ],
      "text/plain": [
       "        job_title experience_level employment_type work_models  work_year  \\\n",
       "0   Data Engineer        Mid-level       Full-time      Remote       2024   \n",
       "1   Data Engineer        Mid-level       Full-time      Remote       2024   \n",
       "2  Data Scientist     Senior-level       Full-time      Remote       2024   \n",
       "3  Data Scientist     Senior-level       Full-time      Remote       2024   \n",
       "4    BI Developer        Mid-level       Full-time     On-site       2024   \n",
       "\n",
       "  employee_residence  salary salary_currency  salary_in_usd company_location  \\\n",
       "0      United States  148100             USD         148100    United States   \n",
       "1      United States   98700             USD          98700    United States   \n",
       "2      United States  140032             USD         140032    United States   \n",
       "3      United States  100022             USD         100022    United States   \n",
       "4      United States  120000             USD         120000    United States   \n",
       "\n",
       "  company_size  \n",
       "0       Medium  \n",
       "1       Medium  \n",
       "2       Medium  \n",
       "3       Medium  \n",
       "4       Medium  "
      ]
     },
     "execution_count": 166,
     "metadata": {},
     "output_type": "execute_result"
    }
   ],
   "source": [
    "data.head()"
   ]
  },
  {
   "cell_type": "markdown",
   "id": "15959905",
   "metadata": {},
   "source": [
    "The number of rows is 6599, a really big amount of data. First thing that comes into my eyes, are the capitalized first letters of every word, and the diversity we have in the job_title column."
   ]
  },
  {
   "cell_type": "code",
   "execution_count": 167,
   "id": "b833b45b",
   "metadata": {},
   "outputs": [
    {
     "name": "stdout",
     "output_type": "stream",
     "text": [
      "job_title\n",
      "Data Engineer                      1307\n",
      "Data Scientist                     1243\n",
      "Data Analyst                        910\n",
      "Machine Learning Engineer           629\n",
      "Analytics Engineer                  246\n",
      "                                   ... \n",
      "Data Science Tech Lead                1\n",
      "Staff Machine Learning Engineer       1\n",
      "Cloud Data Architect                  1\n",
      "Marketing Data Engineer               1\n",
      "Sales Data Analyst                    1\n",
      "Name: count, Length: 132, dtype: int64\n",
      "\n",
      " Sum of Data Engineers, Data Scientists, Data Analyst and ML Engineers:  4089\n"
     ]
    }
   ],
   "source": [
    "x = data[\"job_title\"].value_counts()\n",
    "print(x)\n",
    "print(\"\\n Sum of Data Engineers, Data Scientists, Data Analyst and ML Engineers: \", sum(x[0:4]))"
   ]
  },
  {
   "cell_type": "markdown",
   "id": "51819194",
   "metadata": {},
   "source": [
    "As we can see, there is a huge number of diverse job titles. We will just keep the top four, which represents two thirds of all data, and we will drop all of the other job titles. The first four are **Data Engineer**, **Data Scientists**, **Data Analyst** and **Machine Learning Engineer**. Let's convert every string column into lower case. "
   ]
  },
  {
   "cell_type": "code",
   "execution_count": 168,
   "id": "74813e54",
   "metadata": {},
   "outputs": [
    {
     "name": "stdout",
     "output_type": "stream",
     "text": [
      "<class 'numpy.dtypes.ObjectDType'>\n",
      "<class 'numpy.dtypes.ObjectDType'>\n"
     ]
    }
   ],
   "source": [
    "print(type(data[\"job_title\"].dtype))\n",
    "print(type(data[\"work_models\"].dtype))\n",
    "#pandas stores string values under the \"ObjectType\" "
   ]
  },
  {
   "cell_type": "code",
   "execution_count": 169,
   "id": "9970a956",
   "metadata": {},
   "outputs": [
    {
     "data": {
      "text/html": [
       "<div>\n",
       "<style scoped>\n",
       "    .dataframe tbody tr th:only-of-type {\n",
       "        vertical-align: middle;\n",
       "    }\n",
       "\n",
       "    .dataframe tbody tr th {\n",
       "        vertical-align: top;\n",
       "    }\n",
       "\n",
       "    .dataframe thead th {\n",
       "        text-align: right;\n",
       "    }\n",
       "</style>\n",
       "<table border=\"1\" class=\"dataframe\">\n",
       "  <thead>\n",
       "    <tr style=\"text-align: right;\">\n",
       "      <th></th>\n",
       "      <th>job_title</th>\n",
       "      <th>experience_level</th>\n",
       "      <th>employment_type</th>\n",
       "      <th>work_models</th>\n",
       "      <th>work_year</th>\n",
       "      <th>employee_residence</th>\n",
       "      <th>salary</th>\n",
       "      <th>salary_currency</th>\n",
       "      <th>salary_in_usd</th>\n",
       "      <th>company_location</th>\n",
       "      <th>company_size</th>\n",
       "    </tr>\n",
       "  </thead>\n",
       "  <tbody>\n",
       "    <tr>\n",
       "      <th>0</th>\n",
       "      <td>data engineer</td>\n",
       "      <td>mid-level</td>\n",
       "      <td>full-time</td>\n",
       "      <td>remote</td>\n",
       "      <td>2024</td>\n",
       "      <td>united states</td>\n",
       "      <td>148100</td>\n",
       "      <td>usd</td>\n",
       "      <td>148100</td>\n",
       "      <td>united states</td>\n",
       "      <td>medium</td>\n",
       "    </tr>\n",
       "    <tr>\n",
       "      <th>1</th>\n",
       "      <td>data engineer</td>\n",
       "      <td>mid-level</td>\n",
       "      <td>full-time</td>\n",
       "      <td>remote</td>\n",
       "      <td>2024</td>\n",
       "      <td>united states</td>\n",
       "      <td>98700</td>\n",
       "      <td>usd</td>\n",
       "      <td>98700</td>\n",
       "      <td>united states</td>\n",
       "      <td>medium</td>\n",
       "    </tr>\n",
       "    <tr>\n",
       "      <th>2</th>\n",
       "      <td>data scientist</td>\n",
       "      <td>senior-level</td>\n",
       "      <td>full-time</td>\n",
       "      <td>remote</td>\n",
       "      <td>2024</td>\n",
       "      <td>united states</td>\n",
       "      <td>140032</td>\n",
       "      <td>usd</td>\n",
       "      <td>140032</td>\n",
       "      <td>united states</td>\n",
       "      <td>medium</td>\n",
       "    </tr>\n",
       "    <tr>\n",
       "      <th>3</th>\n",
       "      <td>data scientist</td>\n",
       "      <td>senior-level</td>\n",
       "      <td>full-time</td>\n",
       "      <td>remote</td>\n",
       "      <td>2024</td>\n",
       "      <td>united states</td>\n",
       "      <td>100022</td>\n",
       "      <td>usd</td>\n",
       "      <td>100022</td>\n",
       "      <td>united states</td>\n",
       "      <td>medium</td>\n",
       "    </tr>\n",
       "    <tr>\n",
       "      <th>4</th>\n",
       "      <td>bi developer</td>\n",
       "      <td>mid-level</td>\n",
       "      <td>full-time</td>\n",
       "      <td>on-site</td>\n",
       "      <td>2024</td>\n",
       "      <td>united states</td>\n",
       "      <td>120000</td>\n",
       "      <td>usd</td>\n",
       "      <td>120000</td>\n",
       "      <td>united states</td>\n",
       "      <td>medium</td>\n",
       "    </tr>\n",
       "  </tbody>\n",
       "</table>\n",
       "</div>"
      ],
      "text/plain": [
       "        job_title experience_level employment_type work_models  work_year  \\\n",
       "0   data engineer        mid-level       full-time      remote       2024   \n",
       "1   data engineer        mid-level       full-time      remote       2024   \n",
       "2  data scientist     senior-level       full-time      remote       2024   \n",
       "3  data scientist     senior-level       full-time      remote       2024   \n",
       "4    bi developer        mid-level       full-time     on-site       2024   \n",
       "\n",
       "  employee_residence  salary salary_currency  salary_in_usd company_location  \\\n",
       "0      united states  148100             usd         148100    united states   \n",
       "1      united states   98700             usd          98700    united states   \n",
       "2      united states  140032             usd         140032    united states   \n",
       "3      united states  100022             usd         100022    united states   \n",
       "4      united states  120000             usd         120000    united states   \n",
       "\n",
       "  company_size  \n",
       "0       medium  \n",
       "1       medium  \n",
       "2       medium  \n",
       "3       medium  \n",
       "4       medium  "
      ]
     },
     "execution_count": 169,
     "metadata": {},
     "output_type": "execute_result"
    }
   ],
   "source": [
    "for x in data:\n",
    "    if data[x].dtype == \"object\":\n",
    "        data[x] = data[x].str.lower()\n",
    "#this is a for loop that checks if a pandas column is of the type \"object\" (string) and applies the method Series.str.lower to that column.\n",
    "data.head()"
   ]
  },
  {
   "cell_type": "code",
   "execution_count": 170,
   "id": "39a016cf",
   "metadata": {},
   "outputs": [
    {
     "name": "stdout",
     "output_type": "stream",
     "text": [
      "['data analyst' 'data engineer' 'data scientist'\n",
      " 'machine learning engineer']\n"
     ]
    }
   ],
   "source": [
    "jobs_to_keep = [\"data engineer\", \"data scientist\", \"data analyst\", \"machine learning engineer\"]\n",
    "data = data[data[\"job_title\"].isin(jobs_to_keep)]\n",
    "#boolean indexing. data[\"job_title\"].isin(jobs_to_keep) returns an array of False or True if the job title is in jobs_to_keep.\n",
    "print(unique(data[\"job_title\"]))"
   ]
  },
  {
   "cell_type": "code",
   "execution_count": 171,
   "id": "4c2dc317",
   "metadata": {},
   "outputs": [
    {
     "data": {
      "text/plain": [
       "0       medium\n",
       "1       medium\n",
       "2       medium\n",
       "3       medium\n",
       "8       medium\n",
       "         ...  \n",
       "6589     small\n",
       "6591     large\n",
       "6592     small\n",
       "6597     large\n",
       "6598     small\n",
       "Name: company_size, Length: 4089, dtype: object"
      ]
     },
     "execution_count": 171,
     "metadata": {},
     "output_type": "execute_result"
    }
   ],
   "source": [
    "data[\"company_size\"]"
   ]
  },
  {
   "cell_type": "code",
   "execution_count": 172,
   "id": "01a28319",
   "metadata": {},
   "outputs": [
    {
     "name": "stdout",
     "output_type": "stream",
     "text": [
      "Number of rows:  4089\n"
     ]
    }
   ],
   "source": [
    "print(\"Number of rows: \",len(data))"
   ]
  },
  {
   "cell_type": "markdown",
   "id": "810d595b",
   "metadata": {},
   "source": [
    "As we can see, we have 4089 rows left, which are enough for our purpose. I don't like the \"-level\" in every experience_level value, so I'm gonna delete it."
   ]
  },
  {
   "cell_type": "code",
   "execution_count": 173,
   "id": "86e77aeb",
   "metadata": {},
   "outputs": [
    {
     "data": {
      "text/plain": [
       "0             mid\n",
       "1             mid\n",
       "2          senior\n",
       "3          senior\n",
       "8       executive\n",
       "          ...    \n",
       "6589          mid\n",
       "6591          mid\n",
       "6592        entry\n",
       "6597          mid\n",
       "6598       senior\n",
       "Name: experience_level, Length: 4089, dtype: object"
      ]
     },
     "execution_count": 173,
     "metadata": {},
     "output_type": "execute_result"
    }
   ],
   "source": [
    "data[\"experience_level\"] = data[\"experience_level\"].str.replace(\"-level\",\"\")\n",
    "data[\"experience_level\"]"
   ]
  },
  {
   "cell_type": "markdown",
   "id": "0e4c1c43",
   "metadata": {},
   "source": [
    "Now let's check for missing values."
   ]
  },
  {
   "cell_type": "code",
   "execution_count": 174,
   "id": "59b7e918",
   "metadata": {},
   "outputs": [
    {
     "name": "stdout",
     "output_type": "stream",
     "text": [
      "job_title : False\n",
      "experience_level : False\n",
      "employment_type : False\n",
      "work_models : False\n",
      "work_year : False\n",
      "employee_residence : False\n",
      "salary : False\n",
      "salary_currency : False\n",
      "salary_in_usd : False\n",
      "company_location : False\n",
      "company_size : False\n"
     ]
    }
   ],
   "source": [
    "for x in data:\n",
    "    print(x,\":\",data[x].hasnans)\n",
    "#hasnans is an attribute of pandas.Series (pandas columns) that return False if the columns doesn't have any Nan or True if it has at least one."
   ]
  },
  {
   "cell_type": "markdown",
   "id": "82a64629",
   "metadata": {},
   "source": [
    "There are no missing values. Let's convert all categorical data to the pandas Categorical type."
   ]
  },
  {
   "cell_type": "code",
   "execution_count": 175,
   "id": "1a36ba58",
   "metadata": {},
   "outputs": [
    {
     "data": {
      "text/plain": [
       "job_title             category\n",
       "experience_level      category\n",
       "employment_type       category\n",
       "work_models           category\n",
       "work_year                int64\n",
       "employee_residence      object\n",
       "salary                   int64\n",
       "salary_currency         object\n",
       "salary_in_usd            int64\n",
       "company_location        object\n",
       "company_size          category\n",
       "data_size             category\n",
       "dtype: object"
      ]
     },
     "execution_count": 175,
     "metadata": {},
     "output_type": "execute_result"
    }
   ],
   "source": [
    "data[\"job_title\"] = Categorical(data[\"job_title\"])\n",
    "\n",
    "ordered_experience_variable = [\"entry\", \"mid\", \"senior\", \"executive\"]\n",
    "data[\"experience_level\"] = Categorical(data[\"experience_level\"],ordered = True, categories=ordered_experience_variable)\n",
    "\n",
    "data[\"employment_type\"] = Categorical(data[\"employment_type\"])\n",
    "\n",
    "data[\"work_models\"] = Categorical(data[\"work_models\"])\n",
    "\n",
    "data[\"data_size\"] = Categorical(data[\"work_models\"])\n",
    "\n",
    "ordered_size = [\"small\", \"medium\", \"large\"]\n",
    "data[\"company_size\"] = Categorical(data[\"company_size\"], ordered = True, categories = ordered_size)\n",
    "\n",
    "data.dtypes"
   ]
  },
  {
   "cell_type": "markdown",
   "id": "3bb14430",
   "metadata": {},
   "source": [
    "## Data Visualization"
   ]
  },
  {
   "cell_type": "markdown",
   "id": "bcee3d8b",
   "metadata": {},
   "source": [
    "Let's set the default theme and colors for our visualizations."
   ]
  },
  {
   "cell_type": "code",
   "execution_count": 176,
   "id": "8c1b2430",
   "metadata": {},
   "outputs": [
    {
     "data": {
      "text/plain": [
       "<plotnine.themes.theme_538.theme_538 at 0x1f1ad50de50>"
      ]
     },
     "execution_count": 176,
     "metadata": {},
     "output_type": "execute_result"
    }
   ],
   "source": [
    "cols = {\"data analyst\":\"#C44E52\", \"data engineer\":\"#E5C07B\", \"data scientist\":\"#4C72B0\", \"machine learning engineer\":\"#55A868\"}\n",
    "theme_set(theme_538())"
   ]
  },
  {
   "cell_type": "code",
   "execution_count": 177,
   "id": "0bcb25ec",
   "metadata": {},
   "outputs": [
    {
     "data": {
      "image/png": "[encoded data removed]"
     },
     "metadata": {
      "image/png": {
       "height": 480,
       "width": 640
      }
     },
     "output_type": "display_data"
    }
   ],
   "source": [
    "(\n",
    "    ggplot(data, aes(x = 'job_title'))\n",
    "    + geom_bar(aes(y = after_stat(\"count / sum(count) *100\"), fill = \"job_title\"))\n",
    "    + scale_fill_manual(cols, guide = None)\n",
    "    + geom_text(aes(y = after_stat(\"prop*100\"), label = after_stat(\"prop*100\"),group = 1),stat = 'count', format_string = \"{:.2f}%\",nudge_y = 0.7)\n",
    "    + labs(y = \"Percentage\", x = \"Job Title\")\n",
    "    + theme(axis_text_y=element_blank(),axis_ticks_y=element_blank())\n",
    ")"
   ]
  },
  {
   "cell_type": "code",
   "execution_count": 178,
   "id": "0f501664",
   "metadata": {},
   "outputs": [
    {
     "data": {
      "image/png": "[encoded data removed]"
     },
     "metadata": {
      "image/png": {
       "height": 480,
       "width": 640
      }
     },
     "output_type": "display_data"
    }
   ],
   "source": [
    "(\n",
    "    ggplot(data, aes(x=\"experience_level\",fill = \"experience_level\"))\n",
    "    + scale_fill_brewer(palette=\"Oranges\")\n",
    "    + geom_bar(aes(y = after_stat(\"count / sum(count)*100\")))\n",
    "    + theme(axis_ticks_x=element_blank())\n",
    "    + labs(y=\"Percentage\", x = \"Experience level\")\n",
    "    + geom_text(aes(y = after_stat(\"prop * 100\"), label = after_stat(\"prop *100\"),group = 1), stat = \"count\", format_string = \"{:.2f}%\", nudge_y = 0.8)\n",
    ")"
   ]
  },
  {
   "cell_type": "code",
   "execution_count": 179,
   "id": "e5108d81",
   "metadata": {},
   "outputs": [
    {
     "data": {
      "image/png": "[encoded data removed]"
     },
     "metadata": {
      "image/png": {
       "height": 480,
       "width": 640
      }
     },
     "output_type": "display_data"
    }
   ],
   "source": [
    "(\n",
    "    ggplot(data, aes(x = \"company_size\", fill = \"company_size\"))\n",
    "    + geom_bar(aes(y = after_stat(\"count / sum(count) *100\")), stat = \"count\")\n",
    "    + scale_fill_brewer(palette = \"Greens\")\n",
    "    + theme(axis_ticks_y=element_blank(),axis_text_y=element_blank())\n",
    "    + geom_text(aes(y = after_stat(\"prop * 100\"), label = after_stat(\"prop *100\"),group = 1), stat = \"count\", format_string = \"{:.2f}%\", nudge_y = 1)\n",
    "    + labs(y=\"Percentage\", x = \"Company size\")\n",
    ")"
   ]
  },
  {
   "cell_type": "code",
   "execution_count": null,
   "id": "6c739e1c",
   "metadata": {},
   "outputs": [],
   "source": [
    "url = \"https://naciscdn.org/naturalearth/110m/cultural/ne_110m_admin_0_countries.zip\"\n",
    "\n",
    "gdf = gpd.read_file(url)\n",
    "\n",
    "\n"
   ]
  },
  {
   "cell_type": "code",
   "execution_count": null,
   "id": "11f32d7e",
   "metadata": {},
   "outputs": [
    {
     "name": "stdout",
     "output_type": "stream",
     "text": [
      "          featurecla  scalerank  LABELRANK                   SOVEREIGNT  \\\n",
      "0    Admin-0 country          1          6                         Fiji   \n",
      "1    Admin-0 country          1          3  United Republic of Tanzania   \n",
      "2    Admin-0 country          1          7               Western Sahara   \n",
      "3    Admin-0 country          1          2                       Canada   \n",
      "4    Admin-0 country          1          2     United States of America   \n",
      "..               ...        ...        ...                          ...   \n",
      "172  Admin-0 country          1          5           Republic of Serbia   \n",
      "173  Admin-0 country          1          6                   Montenegro   \n",
      "174  Admin-0 country          1          6                       Kosovo   \n",
      "175  Admin-0 country          1          5          Trinidad and Tobago   \n",
      "176  Admin-0 country          1          3                  South Sudan   \n",
      "\n",
      "    SOV_A3  ADM0_DIF  LEVEL               TYPE TLC  \\\n",
      "0      FJI         0      2  Sovereign country   1   \n",
      "1      TZA         0      2  Sovereign country   1   \n",
      "2      SAH         0      2      Indeterminate   1   \n",
      "3      CAN         0      2  Sovereign country   1   \n",
      "4      US1         1      2            Country   1   \n",
      "..     ...       ...    ...                ...  ..   \n",
      "172    SRB         0      2  Sovereign country   1   \n",
      "173    MNE         0      2  Sovereign country   1   \n",
      "174    KOS         0      2           Disputed   1   \n",
      "175    TTO         0      2  Sovereign country   1   \n",
      "176    SDS         0      2  Sovereign country   1   \n",
      "\n",
      "                           ADMIN  ...        FCLASS_TR     FCLASS_ID  \\\n",
      "0                           Fiji  ...             None          None   \n",
      "1    United Republic of Tanzania  ...             None          None   \n",
      "2                 Western Sahara  ...     Unrecognized  Unrecognized   \n",
      "3                         Canada  ...             None          None   \n",
      "4       United States of America  ...             None          None   \n",
      "..                           ...  ...              ...           ...   \n",
      "172           Republic of Serbia  ...             None          None   \n",
      "173                   Montenegro  ...             None          None   \n",
      "174                       Kosovo  ...  Admin-0 country  Unrecognized   \n",
      "175          Trinidad and Tobago  ...             None          None   \n",
      "176                  South Sudan  ...             None          None   \n",
      "\n",
      "           FCLASS_PL     FCLASS_GR        FCLASS_IT        FCLASS_NL  \\\n",
      "0               None          None             None             None   \n",
      "1               None          None             None             None   \n",
      "2       Unrecognized          None             None     Unrecognized   \n",
      "3               None          None             None             None   \n",
      "4               None          None             None             None   \n",
      "..               ...           ...              ...              ...   \n",
      "172             None          None             None             None   \n",
      "173             None          None             None             None   \n",
      "174  Admin-0 country  Unrecognized  Admin-0 country  Admin-0 country   \n",
      "175             None          None             None             None   \n",
      "176             None          None             None             None   \n",
      "\n",
      "           FCLASS_SE        FCLASS_BD     FCLASS_UA  \\\n",
      "0               None             None          None   \n",
      "1               None             None          None   \n",
      "2               None             None          None   \n",
      "3               None             None          None   \n",
      "4               None             None          None   \n",
      "..               ...              ...           ...   \n",
      "172             None             None          None   \n",
      "173             None             None          None   \n",
      "174  Admin-0 country  Admin-0 country  Unrecognized   \n",
      "175             None             None          None   \n",
      "176             None             None          None   \n",
      "\n",
      "                                              geometry  \n",
      "0    MULTIPOLYGON (((180 -16.06713, 180 -16.55522, ...  \n",
      "1    POLYGON ((33.90371 -0.95, 34.07262 -1.05982, 3...  \n",
      "2    POLYGON ((-8.66559 27.65643, -8.66512 27.58948...  \n",
      "3    MULTIPOLYGON (((-122.84 49, -122.97421 49.0025...  \n",
      "4    MULTIPOLYGON (((-122.84 49, -120 49, -117.0312...  \n",
      "..                                                 ...  \n",
      "172  POLYGON ((18.82982 45.90887, 18.82984 45.90888...  \n",
      "173  POLYGON ((20.0707 42.58863, 19.80161 42.50009,...  \n",
      "174  POLYGON ((20.59025 41.85541, 20.52295 42.21787...  \n",
      "175  POLYGON ((-61.68 10.76, -61.105 10.89, -60.895...  \n",
      "176  POLYGON ((30.83385 3.50917, 29.9535 4.1737, 29...  \n",
      "\n",
      "[177 rows x 169 columns]\n"
     ]
    }
   ],
   "source": [
    "print(gdf)\n",
    "\n",
    "print()"
   ]
  }
 ],
 "metadata": {
  "kernelspec": {
   "display_name": ".venv",
   "language": "python",
   "name": "python3"
  },
  "language_info": {
   "codemirror_mode": {
    "name": "ipython",
    "version": 3
   },
   "file_extension": ".py",
   "mimetype": "text/x-python",
   "name": "python",
   "nbconvert_exporter": "python",
   "pygments_lexer": "ipython3",
   "version": "3.13.1"
  }
 },
 "nbformat": 4,
 "nbformat_minor": 5
}
