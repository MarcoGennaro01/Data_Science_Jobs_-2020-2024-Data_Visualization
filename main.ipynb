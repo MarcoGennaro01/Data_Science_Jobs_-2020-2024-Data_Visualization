{
 "cells": [
  {
   "cell_type": "code",
   "execution_count": 232,
   "id": "82ee2618",
   "metadata": {},
   "outputs": [],
   "source": [
    "#importing libraries\n",
    "from os import getcwd\n",
    "from pandas import *\n",
    "import geopandas as gpd\n",
    "from plotnine import *\n",
    "import re\n",
    "from statistics import count"
   ]
  },
  {
   "cell_type": "code",
   "execution_count": 233,
   "id": "3896b7b0",
   "metadata": {},
   "outputs": [
    {
     "name": "stdout",
     "output_type": "stream",
     "text": [
      "Number of rows:  6599\n"
     ]
    }
   ],
   "source": [
    "path_to_data = getcwd() + r\"\\data_science_salaries.csv\"\n",
    "\n",
    "data = read_csv(path_to_data, sep = \",\")\n",
    "\n",
    "print(\"Number of rows: \", len(data))"
   ]
  },
  {
   "cell_type": "code",
   "execution_count": 234,
   "id": "b833b45b",
   "metadata": {},
   "outputs": [
    {
     "name": "stdout",
     "output_type": "stream",
     "text": [
      "job_title\n",
      "Data Engineer                      1307\n",
      "Data Scientist                     1243\n",
      "Data Analyst                        910\n",
      "Machine Learning Engineer           629\n",
      "Analytics Engineer                  246\n",
      "                                   ... \n",
      "Data Science Tech Lead                1\n",
      "Staff Machine Learning Engineer       1\n",
      "Cloud Data Architect                  1\n",
      "Marketing Data Engineer               1\n",
      "Sales Data Analyst                    1\n",
      "Name: count, Length: 132, dtype: int64\n",
      "\n",
      " Sum of Data Engineers, Data Scientists, Data Analyst and ML Engineers:  4089\n"
     ]
    }
   ],
   "source": [
    "x = data[\"job_title\"].value_counts()\n",
    "print(x)\n",
    "print(\"\\n Sum of Data Engineers, Data Scientists, Data Analyst and ML Engineers: \", sum(x[0:4]))"
   ]
  },
  {
   "cell_type": "code",
   "execution_count": 235,
   "id": "f4fb6e51",
   "metadata": {},
   "outputs": [
    {
     "name": "stdout",
     "output_type": "stream",
     "text": [
      "        job_title experience_level employment_type work_models  work_year  \\\n",
      "0   Data Engineer        Mid-level       Full-time      Remote       2024   \n",
      "1   Data Engineer        Mid-level       Full-time      Remote       2024   \n",
      "2  Data Scientist     Senior-level       Full-time      Remote       2024   \n",
      "3  Data Scientist     Senior-level       Full-time      Remote       2024   \n",
      "4    BI Developer        Mid-level       Full-time     On-site       2024   \n",
      "\n",
      "  employee_residence  salary salary_currency  salary_in_usd company_location  \\\n",
      "0      United States  148100             USD         148100    United States   \n",
      "1      United States   98700             USD          98700    United States   \n",
      "2      United States  140032             USD         140032    United States   \n",
      "3      United States  100022             USD         100022    United States   \n",
      "4      United States  120000             USD         120000    United States   \n",
      "\n",
      "  company_size  \n",
      "0       Medium  \n",
      "1       Medium  \n",
      "2       Medium  \n",
      "3       Medium  \n",
      "4       Medium  \n"
     ]
    }
   ],
   "source": [
    "print(data.head())"
   ]
  },
  {
   "cell_type": "code",
   "execution_count": 236,
   "id": "74813e54",
   "metadata": {},
   "outputs": [
    {
     "name": "stdout",
     "output_type": "stream",
     "text": [
      "<class 'numpy.dtypes.ObjectDType'>\n",
      "<class 'numpy.dtypes.ObjectDType'>\n"
     ]
    }
   ],
   "source": [
    "print(type(data[\"job_title\"].dtype))\n",
    "print(type(data[\"work_models\"].dtype))"
   ]
  },
  {
   "cell_type": "code",
   "execution_count": 237,
   "id": "9970a956",
   "metadata": {},
   "outputs": [
    {
     "name": "stdout",
     "output_type": "stream",
     "text": [
      "['data engineer' 'data scientist' 'data analyst'\n",
      " 'machine learning engineer']\n"
     ]
    }
   ],
   "source": [
    "for x in data:\n",
    "    if data[x].dtype == \"object\":\n",
    "        data[x] = data[x].str.lower()\n",
    "\n",
    "jobs_to_keep = [\"data engineer\", \"data scientist\", \"data analyst\", \"machine learning engineer\"]\n",
    "data = data[data[\"job_title\"].isin(jobs_to_keep)]\n",
    "\n",
    "\n",
    "print(unique(data[\"job_title\"]))"
   ]
  },
  {
   "cell_type": "code",
   "execution_count": null,
   "id": "01a28319",
   "metadata": {},
   "outputs": [
    {
     "name": "stdout",
     "output_type": "stream",
     "text": [
      "Number of rows:  4089\n",
      "        job_title experience_level employment_type work_models  work_year  \\\n",
      "0   data engineer        mid-level       full-time      remote       2024   \n",
      "1   data engineer        mid-level       full-time      remote       2024   \n",
      "2  data scientist     senior-level       full-time      remote       2024   \n",
      "3  data scientist     senior-level       full-time      remote       2024   \n",
      "8   data engineer  executive-level       full-time      remote       2024   \n",
      "\n",
      "  employee_residence  salary salary_currency  salary_in_usd company_location  \\\n",
      "0      united states  148100             usd         148100    united states   \n",
      "1      united states   98700             usd          98700    united states   \n",
      "2      united states  140032             usd         140032    united states   \n",
      "3      united states  100022             usd         100022    united states   \n",
      "8      united states  219650             usd         219650    united states   \n",
      "\n",
      "  company_size  \n",
      "0       medium  \n",
      "1       medium  \n",
      "2       medium  \n",
      "3       medium  \n",
      "8       medium  \n"
     ]
    }
   ],
   "source": [
    "print(\"Number of rows: \",len(data))"
   ]
  },
  {
   "cell_type": "code",
   "execution_count": 239,
   "id": "86e77aeb",
   "metadata": {},
   "outputs": [
    {
     "name": "stdout",
     "output_type": "stream",
     "text": [
      "0             mid\n",
      "1             mid\n",
      "2          senior\n",
      "3          senior\n",
      "8       executive\n",
      "          ...    \n",
      "6589          mid\n",
      "6591          mid\n",
      "6592        entry\n",
      "6597          mid\n",
      "6598       senior\n",
      "Name: experience_level, Length: 4089, dtype: object\n"
     ]
    }
   ],
   "source": [
    "\n",
    "data[\"experience_level\"] = data[\"experience_level\"].str.replace(\"-level\",\"\")\n",
    "print(data[\"experience_level\"])\n"
   ]
  },
  {
   "cell_type": "code",
   "execution_count": 247,
   "id": "59b7e918",
   "metadata": {},
   "outputs": [
    {
     "name": "stdout",
     "output_type": "stream",
     "text": [
      "job_title : False\n",
      "experience_level : False\n",
      "employment_type : False\n",
      "work_models : False\n",
      "work_year : False\n",
      "employee_residence : False\n",
      "salary : False\n",
      "salary_currency : False\n",
      "salary_in_usd : False\n",
      "company_location : False\n",
      "company_size : False\n"
     ]
    }
   ],
   "source": [
    "for x in data:\n",
    "    print(x,\":\",data[x].hasnans)\n"
   ]
  },
  {
   "cell_type": "code",
   "execution_count": null,
   "id": "1a36ba58",
   "metadata": {},
   "outputs": [],
   "source": []
  }
 ],
 "metadata": {
  "kernelspec": {
   "display_name": ".venv",
   "language": "python",
   "name": "python3"
  },
  "language_info": {
   "codemirror_mode": {
    "name": "ipython",
    "version": 3
   },
   "file_extension": ".py",
   "mimetype": "text/x-python",
   "name": "python",
   "nbconvert_exporter": "python",
   "pygments_lexer": "ipython3",
   "version": "3.13.1"
  }
 },
 "nbformat": 4,
 "nbformat_minor": 5
}
